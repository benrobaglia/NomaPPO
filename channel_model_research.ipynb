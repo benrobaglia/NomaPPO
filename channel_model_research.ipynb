{
 "cells": [
  {
   "cell_type": "code",
   "execution_count": 1,
   "id": "717c17a6",
   "metadata": {},
   "outputs": [],
   "source": [
    "import numpy as np\n",
    "import pickle\n",
    "import random\n",
    "import torch\n",
    "from nomaenv import NomaEnv\n",
    "import matplotlib.pyplot as plt"
   ]
  },
  {
   "cell_type": "code",
   "execution_count": 2,
   "id": "fc169508",
   "metadata": {},
   "outputs": [],
   "source": [
    "#from algorithms.noma_ppo import *\n",
    "from algorithms.baselines import *"
   ]
  },
  {
   "cell_type": "code",
   "execution_count": 3,
   "id": "0765f177",
   "metadata": {},
   "outputs": [
    {
     "data": {
      "text/plain": [
       "<torch._C.Generator at 0x2a848cd0e10>"
      ]
     },
     "execution_count": 3,
     "metadata": {},
     "output_type": "execute_result"
    }
   ],
   "source": [
    "random.seed(42)\n",
    "np.random.seed(42)\n",
    "torch.manual_seed(42)"
   ]
  },
  {
   "cell_type": "code",
   "execution_count": 4,
   "id": "b329e497",
   "metadata": {
    "scrolled": true
   },
   "outputs": [
    {
     "name": "stdout",
     "output_type": "stream",
     "text": [
      "65\n",
      "0\n",
      "Number of received packets: 81618.0\n",
      "65\n",
      "1\n",
      "Number of received packets: 81032.0\n",
      "65\n",
      "2\n",
      "Number of received packets: 81447.0\n",
      "[1.0, 1.0, 1.0]\n",
      "100\n",
      "0\n",
      "Number of received packets: 81677.0\n",
      "100\n",
      "1\n",
      "Number of received packets: 81543.0\n",
      "100\n",
      "2\n",
      "Number of received packets: 81359.0\n",
      "[1.0, 0.9999754730632917, 1.0]\n",
      "150\n",
      "0\n",
      "Number of received packets: 81811.0\n",
      "150\n",
      "1\n",
      "Number of received packets: 81506.0\n",
      "150\n",
      "2\n",
      "Number of received packets: 81572.0\n",
      "[0.9953918177262226, 0.9802959291340515, 1.0]\n",
      "200\n",
      "0\n",
      "Number of received packets: 81284.0\n",
      "200\n",
      "1\n",
      "Number of received packets: 81843.0\n",
      "200\n",
      "2\n",
      "Number of received packets: 81734.0\n",
      "[0.9671645096205895, 0.9212638832887358, 0.9493478846012675]\n",
      "300\n",
      "0\n",
      "Number of received packets: 81441.0\n",
      "300\n",
      "1\n",
      "Number of received packets: 81614.0\n",
      "300\n",
      "2\n",
      "Number of received packets: 81466.0\n",
      "[0.8809936027308113, 0.8881564437473963, 0.9465789409078634]\n"
     ]
    }
   ],
   "source": [
    "k = 20\n",
    "deadlines = np.array([5 for _ in range(k)])\n",
    "offsets = None\n",
    "arrival_probs = None\n",
    "period = None\n",
    "\n",
    "scores = []\n",
    "distances = [65, 100, 150, 200, 300]\n",
    "for d in distances:\n",
    "    scores_seed = []\n",
    "    for seed in range(3):\n",
    "        print(d)\n",
    "        print(seed)\n",
    "        env = NomaEnv(k,\n",
    "                      deadlines,\n",
    "                      lbda=1/9.3,\n",
    "                      period=period,\n",
    "                      arrival_probs=arrival_probs,\n",
    "                      offsets=offsets,\n",
    "                      episode_length=200,\n",
    "                      max_simultaneous_devices=3,\n",
    "                      traffic_model='aperiodic',\n",
    "                      channel_model='interference',\n",
    "                      distances=d,\n",
    "                      path_loss=True,\n",
    "                      shadowing=True,\n",
    "                      fast_fading=True,\n",
    "                      verbose=False\n",
    "                     )\n",
    "        edf = EarliestDeadlineFirstScheduler(env, verbose=True)\n",
    "        sc = edf.run(200)\n",
    "        scores_seed.append(sc)\n",
    "    print(scores_seed)\n",
    "    scores.append(scores_seed)"
   ]
  },
  {
   "cell_type": "code",
   "execution_count": 5,
   "id": "ad51a579",
   "metadata": {},
   "outputs": [
    {
     "data": {
      "text/plain": [
       "array([[1.        , 1.        , 1.        ],\n",
       "       [1.        , 0.99997547, 1.        ],\n",
       "       [0.99539182, 0.98029593, 1.        ],\n",
       "       [0.96716451, 0.92126388, 0.94934788],\n",
       "       [0.8809936 , 0.88815644, 0.94657894]])"
      ]
     },
     "execution_count": 5,
     "metadata": {},
     "output_type": "execute_result"
    }
   ],
   "source": [
    "np.array(scores)"
   ]
  },
  {
   "cell_type": "code",
   "execution_count": 6,
   "id": "bed1548d",
   "metadata": {},
   "outputs": [],
   "source": [
    "results = {'distances': distances,\n",
    "          'scores': np.array(scores)\n",
    "          }"
   ]
  },
  {
   "cell_type": "code",
   "execution_count": 7,
   "id": "9e6d7440",
   "metadata": {},
   "outputs": [],
   "source": [
    "pickle.dump(results, open('results/edf_aperiodic_interference_k20_distances.p', 'wb'))"
   ]
  },
  {
   "cell_type": "code",
   "execution_count": null,
   "id": "2045d59c",
   "metadata": {},
   "outputs": [],
   "source": []
  },
  {
   "cell_type": "markdown",
   "id": "154b000a",
   "metadata": {},
   "source": [
    "### Experiment: epsilon function of avg SNR"
   ]
  },
  {
   "cell_type": "code",
   "execution_count": 4,
   "id": "4ae9c8f8",
   "metadata": {},
   "outputs": [],
   "source": [
    "k = 4\n",
    "deadlines = np.array([5 for _ in range(k)])\n",
    "offsets = None\n",
    "arrival_probs = None\n",
    "period = None\n",
    "\n",
    "\n",
    "env = NomaEnv(k,\n",
    "              deadlines,\n",
    "              lbda=1/9.3,\n",
    "              period=period,\n",
    "              arrival_probs=arrival_probs,\n",
    "              offsets=offsets,\n",
    "              episode_length=200,\n",
    "              max_simultaneous_devices=3,\n",
    "              traffic_model='aperiodic',\n",
    "              channel_model='interference',\n",
    "              distances=150,\n",
    "              path_loss=False,\n",
    "              shadowing=False,\n",
    "              fast_fading=False,\n",
    "              verbose=False\n",
    "             )"
   ]
  },
  {
   "cell_type": "code",
   "execution_count": 5,
   "id": "639fe406",
   "metadata": {},
   "outputs": [],
   "source": [
    "# Without FF\n",
    "low = -7\n",
    "avg_snrs_db = np.arange(low, -3, 0.1)\n",
    "avg_snr = 10**(avg_snrs_db / 10)\n",
    "eps = env.compute_epsilon(avg_snr)\n"
   ]
  },
  {
   "cell_type": "code",
   "execution_count": null,
   "id": "f8943074",
   "metadata": {},
   "outputs": [],
   "source": []
  },
  {
   "cell_type": "code",
   "execution_count": null,
   "id": "f86d13df",
   "metadata": {},
   "outputs": [],
   "source": [
    "plt.plot(avg_snrs_db, eps, label='epsilon, no FF')\n",
    "plt.xlabel(\"avg SNR (dB)\")\n",
    "plt.ylabel(\"epsilon\")\n",
    "plt.legend(fontsize=13)"
   ]
  },
  {
   "cell_type": "code",
   "execution_count": 104,
   "id": "8c369668",
   "metadata": {},
   "outputs": [],
   "source": [
    "# With FF\n",
    "avg_snrs_db = np.arange(-7, -3, 0.1)\n",
    "avg_snr = 10**(avg_snrs_db / 10)\n",
    "\n",
    "h_upper = 2 + 1\n",
    "h_lower = 2 - 1\n",
    "\n",
    "eps = env.compute_epsilon(avg_snr)\n",
    "eps_ff = env.compute_epsilon(avg_snr*2)\n",
    "eps_upper = env.compute_epsilon(avg_snr*2.75)\n",
    "eps_lower = env.compute_epsilon(avg_snr*1.15)"
   ]
  },
  {
   "cell_type": "code",
   "execution_count": 106,
   "id": "f14f8e08",
   "metadata": {},
   "outputs": [
    {
     "data": {
      "text/plain": [
       "<matplotlib.legend.Legend at 0x7fed501ae790>"
      ]
     },
     "execution_count": 106,
     "metadata": {},
     "output_type": "execute_result"
    },
    {
     "data": {
      "image/png": "[encoded data removed]",
      "text/plain": [
       "<Figure size 1200x800 with 1 Axes>"
      ]
     },
     "metadata": {},
     "output_type": "display_data"
    }
   ],
   "source": [
    "fig = plt.figure(figsize=(12,8))\n",
    "ax = fig.add_subplot(1,1,1)\n",
    "\n",
    "ax.plot(avg_snrs_db, eps, label='epsilon, without FF')\n",
    "ax.plot(avg_snrs_db, eps_ff, color='purple', label='epsilon, with FF, with average h2 and quantile=0.2')\n",
    "ax.fill_between(avg_snrs_db,\n",
    "               eps_upper,\n",
    "               eps_lower,\n",
    "               facecolor='magenta',\n",
    "               alpha=0.2)\n",
    "\n",
    "\n",
    "plt.xlabel(\"avg SNR (dB)\")\n",
    "plt.ylabel(\"epsilon\")\n",
    "plt.legend(fontsize=13)"
   ]
  },
  {
   "cell_type": "code",
   "execution_count": null,
   "id": "ac0b415a",
   "metadata": {},
   "outputs": [],
   "source": [
    "h = np.random.multivariate_normal(np.array([0, 0]), 0.5 * np.diag([1, 1]), size=(5, env.nt))\n",
    "complex_h = np.matrix(h[:, :, 0] + 1j*(h[:, :, 1]))"
   ]
  },
  {
   "cell_type": "code",
   "execution_count": 9,
   "id": "69eebf40",
   "metadata": {},
   "outputs": [],
   "source": [
    "h_coeffs = complex_h.dot(complex_h.getH())"
   ]
  },
  {
   "cell_type": "code",
   "execution_count": 10,
   "id": "8cfcf160",
   "metadata": {},
   "outputs": [
    {
     "data": {
      "text/plain": [
       "matrix([[ 1.97434938+0.j        , -1.85216814+0.9265355j ,\n",
       "          0.12255576-1.14066192j,  0.88002314-1.04014347j,\n",
       "         -1.27137341+2.37153509j],\n",
       "        [-1.85216814-0.9265355j ,  5.92277706+0.j        ,\n",
       "          0.84240223-0.44834825j, -1.23808348+1.0497725j ,\n",
       "         -0.71263043-1.89502328j],\n",
       "        [ 0.12255576+1.14066192j,  0.84240223+0.44834825j,\n",
       "          3.33138848+0.j        ,  1.04588196+0.91300962j,\n",
       "         -2.54273386-1.06447226j],\n",
       "        [ 0.88002314+1.04014347j, -1.23808348-1.0497725j ,\n",
       "          1.04588196-0.91300962j,  2.89580756+0.j        ,\n",
       "         -2.29977776+2.18297563j],\n",
       "        [-1.27137341-2.37153509j, -0.71263043+1.89502328j,\n",
       "         -2.54273386+1.06447226j, -2.29977776-2.18297563j,\n",
       "          7.46535152+0.j        ]])"
      ]
     },
     "execution_count": 10,
     "metadata": {},
     "output_type": "execute_result"
    }
   ],
   "source": [
    "h_coeffs"
   ]
  },
  {
   "cell_type": "code",
   "execution_count": 11,
   "id": "98341d7d",
   "metadata": {},
   "outputs": [],
   "source": [
    "h2 = np.absolute(np.diag(h_coeffs))"
   ]
  },
  {
   "cell_type": "code",
   "execution_count": 12,
   "id": "4f9f86f3",
   "metadata": {},
   "outputs": [
    {
     "data": {
      "text/plain": [
       "array([1.97434938, 5.92277706, 3.33138848, 2.89580756, 7.46535152])"
      ]
     },
     "execution_count": 12,
     "metadata": {},
     "output_type": "execute_result"
    }
   ],
   "source": [
    "h2"
   ]
  },
  {
   "cell_type": "code",
   "execution_count": 35,
   "id": "e6dc47d0",
   "metadata": {},
   "outputs": [
    {
     "data": {
      "text/plain": [
       "1.9743493756775208"
      ]
     },
     "execution_count": 35,
     "metadata": {},
     "output_type": "execute_result"
    }
   ],
   "source": [
    "np.sum(np.array(np.absolute(complex_h[0]))**2)"
   ]
  },
  {
   "cell_type": "code",
   "execution_count": 23,
   "id": "cb402812",
   "metadata": {},
   "outputs": [
    {
     "data": {
      "text/plain": [
       "2.070988853615461"
      ]
     },
     "execution_count": 23,
     "metadata": {},
     "output_type": "execute_result"
    }
   ],
   "source": [
    "np.absolute(h_coeffs[0,1])"
   ]
  },
  {
   "cell_type": "code",
   "execution_count": 21,
   "id": "f67f6c03",
   "metadata": {},
   "outputs": [
    {
     "data": {
      "text/plain": [
       "array([[4.28899483, 1.31612954]])"
      ]
     },
     "execution_count": 21,
     "metadata": {},
     "output_type": "execute_result"
    }
   ],
   "source": [
    "np.array(np.absolute(h_coeffs[0,np.array([1,2])]))**2"
   ]
  },
  {
   "cell_type": "code",
   "execution_count": 29,
   "id": "477f95dd",
   "metadata": {},
   "outputs": [
    {
     "data": {
      "text/plain": [
       "array([[1.79525536, 0.7657036 ]])"
      ]
     },
     "execution_count": 29,
     "metadata": {},
     "output_type": "execute_result"
    }
   ],
   "source": [
    "np.array(np.absolute(h_coeff[3, np.array([2, 4])]))"
   ]
  },
  {
   "cell_type": "code",
   "execution_count": null,
   "id": "46531471",
   "metadata": {},
   "outputs": [],
   "source": []
  },
  {
   "cell_type": "code",
   "execution_count": 9,
   "id": "12c6834e",
   "metadata": {},
   "outputs": [
    {
     "data": {
      "text/plain": [
       "2.570826392762963"
      ]
     },
     "execution_count": 9,
     "metadata": {},
     "output_type": "execute_result"
    }
   ],
   "source": [
    "np.sum(np.array(np.absolute(complex_h[0]))**2)"
   ]
  },
  {
   "cell_type": "code",
   "execution_count": 10,
   "id": "7af6e52a",
   "metadata": {},
   "outputs": [
    {
     "data": {
      "text/plain": [
       "matrix([[-0.29215231+2.30992881j]])"
      ]
     },
     "execution_count": 10,
     "metadata": {},
     "output_type": "execute_result"
    }
   ],
   "source": [
    "complex_h[0].dot(complex_h[1].getH())"
   ]
  },
  {
   "cell_type": "code",
   "execution_count": 17,
   "id": "83640836",
   "metadata": {},
   "outputs": [
    {
     "data": {
      "text/plain": [
       "array([2.57082639, 3.76594007, 6.22066223, 2.20460225, 1.72567096,\n",
       "       3.1873862 , 5.00732042, 3.8500176 , 4.84088892, 7.59678158,\n",
       "       2.80266531, 2.10215704, 2.80076747, 1.946094  , 1.58155067,\n",
       "       3.24750738, 5.56162499, 3.63683533, 2.46466598, 4.23887194])"
      ]
     },
     "execution_count": 17,
     "metadata": {},
     "output_type": "execute_result"
    }
   ],
   "source": [
    "np.absolute(np.diag(complex_h.dot(complex_h.getH())))"
   ]
  },
  {
   "cell_type": "code",
   "execution_count": 18,
   "id": "678de870",
   "metadata": {},
   "outputs": [
    {
     "data": {
      "text/plain": [
       "0.14925865676413264"
      ]
     },
     "execution_count": 18,
     "metadata": {},
     "output_type": "execute_result"
    }
   ],
   "source": [
    "np.linalg.norm(np.diag(complex_h.dot(complex_h.getH())), -1)"
   ]
  },
  {
   "cell_type": "code",
   "execution_count": 15,
   "id": "85dc569e",
   "metadata": {},
   "outputs": [
    {
     "data": {
      "text/plain": [
       "array([2.57082639+0.j, 3.76594007+0.j, 6.22066223+0.j, 2.20460225+0.j,\n",
       "       1.72567096+0.j, 3.1873862 +0.j, 5.00732042+0.j, 3.8500176 +0.j,\n",
       "       4.84088892+0.j, 7.59678158+0.j, 2.80266531+0.j, 2.10215704+0.j,\n",
       "       2.80076747+0.j, 1.946094  +0.j, 1.58155067+0.j, 3.24750738+0.j,\n",
       "       5.56162499+0.j, 3.63683533+0.j, 2.46466598+0.j, 4.23887194+0.j])"
      ]
     },
     "execution_count": 15,
     "metadata": {},
     "output_type": "execute_result"
    }
   ],
   "source": [
    "np.diag(complex_h.dot(complex_h.getH()))"
   ]
  },
  {
   "cell_type": "code",
   "execution_count": 10,
   "id": "388fa525",
   "metadata": {},
   "outputs": [
    {
     "data": {
      "text/plain": [
       "(0.6251536967836954-0.672234955666844j)"
      ]
     },
     "execution_count": 10,
     "metadata": {},
     "output_type": "execute_result"
    }
   ],
   "source": [
    "complex_h[0,0]"
   ]
  },
  {
   "cell_type": "code",
   "execution_count": 11,
   "id": "d76c42b7",
   "metadata": {},
   "outputs": [
    {
     "data": {
      "text/plain": [
       "0.9179961765839356"
      ]
     },
     "execution_count": 11,
     "metadata": {},
     "output_type": "execute_result"
    }
   ],
   "source": [
    "np.absolute(complex_h[0,0])"
   ]
  },
  {
   "cell_type": "code",
   "execution_count": 13,
   "id": "568a761c",
   "metadata": {},
   "outputs": [
    {
     "data": {
      "text/plain": [
       "0.9179961765839356"
      ]
     },
     "execution_count": 13,
     "metadata": {},
     "output_type": "execute_result"
    }
   ],
   "source": [
    "np.sqrt(0.6251536967836954**2 + 0.672234955666844**2)"
   ]
  },
  {
   "cell_type": "code",
   "execution_count": 62,
   "id": "d75f784c",
   "metadata": {},
   "outputs": [],
   "source": [
    "z = [np.random.normal(0, 0.5, size=(100000))**2 for _ in range(8)]"
   ]
  },
  {
   "cell_type": "code",
   "execution_count": 63,
   "id": "6b839df4",
   "metadata": {},
   "outputs": [
    {
     "data": {
      "text/plain": [
       "1.9997687973265734"
      ]
     },
     "execution_count": 63,
     "metadata": {},
     "output_type": "execute_result"
    }
   ],
   "source": [
    "np.stack(z).sum(0).mean()"
   ]
  },
  {
   "cell_type": "code",
   "execution_count": 64,
   "id": "a38799fb",
   "metadata": {},
   "outputs": [
    {
     "data": {
      "text/plain": [
       "0.9971920835052542"
      ]
     },
     "execution_count": 64,
     "metadata": {},
     "output_type": "execute_result"
    }
   ],
   "source": [
    "np.stack(z).sum(0).var()"
   ]
  },
  {
   "cell_type": "code",
   "execution_count": 89,
   "id": "1aafa8e6",
   "metadata": {},
   "outputs": [
    {
     "data": {
      "text/plain": [
       "2.754892569976835"
      ]
     },
     "execution_count": 89,
     "metadata": {},
     "output_type": "execute_result"
    }
   ],
   "source": [
    "np.percentile(np.stack(z).sum(0), 80)"
   ]
  },
  {
   "cell_type": "code",
   "execution_count": 99,
   "id": "eb92a0a3",
   "metadata": {},
   "outputs": [
    {
     "data": {
      "text/plain": [
       "1.8366496429062615"
      ]
     },
     "execution_count": 99,
     "metadata": {},
     "output_type": "execute_result"
    }
   ],
   "source": [
    "np.percentile(np.stack(z).sum(0), 50)"
   ]
  },
  {
   "cell_type": "code",
   "execution_count": null,
   "id": "e83d64a1",
   "metadata": {},
   "outputs": [],
   "source": []
  },
  {
   "cell_type": "code",
   "execution_count": null,
   "id": "c408adba",
   "metadata": {},
   "outputs": [],
   "source": []
  }
 ],
 "metadata": {
  "kernelspec": {
   "display_name": "Python 3",
   "language": "python",
   "name": "python3"
  },
  "language_info": {
   "codemirror_mode": {
    "name": "ipython",
    "version": 3
   },
   "file_extension": ".py",
   "mimetype": "text/x-python",
   "name": "python",
   "nbconvert_exporter": "python",
   "pygments_lexer": "ipython3",
   "version": "3.8.12"
  }
 },
 "nbformat": 4,
 "nbformat_minor": 5
}
