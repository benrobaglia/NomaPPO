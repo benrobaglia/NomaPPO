{
 "cells": [
  {
   "cell_type": "code",
   "execution_count": 1,
   "id": "db099e73",
   "metadata": {},
   "outputs": [],
   "source": [
    "import numpy as np\n",
    "import pandas as pd\n",
    "import matplotlib.pyplot as plt\n",
    "import pickle\n",
    "import time\n",
    "from scipy.special import jv"
   ]
  },
  {
   "cell_type": "code",
   "execution_count": 2,
   "id": "e16cdc27",
   "metadata": {},
   "outputs": [],
   "source": [
    "from nomaenv import NomaEnv"
   ]
  },
  {
   "cell_type": "code",
   "execution_count": 3,
   "id": "2a304c59",
   "metadata": {},
   "outputs": [
    {
     "name": "stdout",
     "output_type": "stream",
     "text": [
      "Distances: [65. 65. 65. 65.]\n",
      "Gain UE: [-90.70970328 -90.70970328 -90.70970328 -90.70970328]\n",
      "n:1272.0, a:0.9999441788794395\n"
     ]
    }
   ],
   "source": [
    "k = 4\n",
    "deadlines = np.array([5 for _ in range(k)])\n",
    "offsets = np.zeros(k)\n",
    "arrival_probs = np.array([0.8 for _ in range(k)])\n",
    "period = 5\n",
    "\n",
    "env = NomaEnv(k,\n",
    "              deadlines,\n",
    "              lbda=1,\n",
    "              period=period,\n",
    "              arrival_probs=arrival_probs,\n",
    "              offsets=offsets,\n",
    "              episode_length=10,\n",
    "              max_simultaneous_devices=3,\n",
    "              traffic_model='aperiodic',\n",
    "              channel_model='interference',\n",
    "              distances=65,\n",
    "              path_loss=True,\n",
    "              shadowing=False,\n",
    "              fast_fading=True,\n",
    "              verbose=True\n",
    "             )"
   ]
  },
  {
   "cell_type": "code",
   "execution_count": 22,
   "id": "dca781bc",
   "metadata": {
    "scrolled": true
   },
   "outputs": [
    {
     "name": "stdout",
     "output_type": "stream",
     "text": [
      "0000\n",
      "attempts: [], eta: [1.12725363e-05 5.85743095e-06 3.39566502e-07 1.88662882e-06], decoding order: []\n",
      "fast fading ||h||^2: [66.52608557 34.56825888  2.00398824 11.13414295]\n",
      "[]\n",
      "[0. 0. 0. 0.]\n",
      "Timestep 1\n",
      "State [[0. 0. 0. 0. 0.]\n",
      " [0. 0. 0. 0. 0.]\n",
      " [0. 0. 0. 0. 0.]\n",
      " [0. 0. 0. 0. 0.]]\n",
      "Observation [[0. 0. 0. 0. 0.]\n",
      " [0. 0. 0. 0. 0.]\n",
      " [0. 0. 0. 0. 0.]\n",
      " [0. 0. 0. 0. 0.]]\n",
      "Action [0. 0. 0. 0.]\n",
      "Devices polled []\n",
      "Next state [[0. 0. 0. 0. 1.]\n",
      " [0. 0. 0. 0. 0.]\n",
      " [0. 0. 0. 0. 1.]\n",
      " [0. 0. 0. 0. 1.]]\n",
      "Agent next obs [[0. 0. 0. 0. 0.]\n",
      " [0. 0. 0. 0. 0.]\n",
      " [0. 0. 0. 0. 0.]\n",
      " [0. 0. 0. 0. 0.]]\n",
      "Reward 0\n",
      "Received packets [1. 0. 1. 1.]\n",
      "Number of discarded packets 0\n",
      "\n",
      "1011\n",
      "attempts: [0 2 3], eta: [1.12622991e-05 5.93567121e-06 3.26477534e-07 1.86643622e-06], decoding order: [0 3 2]\n",
      "fast fading ||h||^2: [66.46566957 35.03000221  1.92674229 11.01497412]\n",
      "Device: 0, sinr 5.134644421008677, interference: [3 2]\n",
      "epsilon: 0.0, decoded: 1\n",
      "Device: 3, sinr 5.70849025184951, interference: [2]\n",
      "epsilon: 0.0, decoded: 1\n",
      "Device: 2, sinr 679.5868020320305, interference: []\n",
      "epsilon: 0.0, decoded: 1\n",
      "[0 3 2]\n",
      "[  5.13464442   0.         679.58680203   5.70849025]\n",
      "Timestep 2\n",
      "State [[0. 0. 0. 0. 1.]\n",
      " [0. 0. 0. 0. 0.]\n",
      " [0. 0. 0. 0. 1.]\n",
      " [0. 0. 0. 0. 1.]]\n",
      "Observation [[0. 0. 0. 0. 0.]\n",
      " [0. 0. 0. 0. 0.]\n",
      " [0. 0. 0. 0. 0.]\n",
      " [0. 0. 0. 0. 0.]]\n",
      "Action [1. 0. 1. 1.]\n",
      "Devices polled [0 2 3]\n",
      "Next state [[0. 0. 0. 0. 1.]\n",
      " [0. 0. 0. 0. 0.]\n",
      " [0. 0. 0. 0. 1.]\n",
      " [0. 0. 0. 0. 1.]]\n",
      "Agent next obs [[0. 0. 0. 0. 1.]\n",
      " [0. 0. 0. 0. 0.]\n",
      " [0. 0. 0. 0. 1.]\n",
      " [0. 0. 0. 0. 1.]]\n",
      "Reward 3\n",
      "Received packets [2. 0. 2. 2.]\n",
      "Number of discarded packets 0\n",
      "\n"
     ]
    },
    {
     "ename": "KeyboardInterrupt",
     "evalue": "Interrupted by user",
     "output_type": "error",
     "traceback": [
      "\u001b[1;31m---------------------------------------------------------------------------\u001b[0m",
      "\u001b[1;31mKeyboardInterrupt\u001b[0m                         Traceback (most recent call last)",
      "\u001b[1;32m<ipython-input-22-953997d4b493>\u001b[0m in \u001b[0;36m<module>\u001b[1;34m\u001b[0m\n\u001b[0;32m      2\u001b[0m \u001b[0mobs\u001b[0m \u001b[1;33m=\u001b[0m \u001b[0menv\u001b[0m\u001b[1;33m.\u001b[0m\u001b[0mreset\u001b[0m\u001b[1;33m(\u001b[0m\u001b[1;33m)\u001b[0m\u001b[1;33m\u001b[0m\u001b[1;33m\u001b[0m\u001b[0m\n\u001b[0;32m      3\u001b[0m \u001b[1;32mwhile\u001b[0m \u001b[1;32mnot\u001b[0m \u001b[0mdone\u001b[0m\u001b[1;33m:\u001b[0m\u001b[1;33m\u001b[0m\u001b[1;33m\u001b[0m\u001b[0m\n\u001b[1;32m----> 4\u001b[1;33m     \u001b[0mac\u001b[0m \u001b[1;33m=\u001b[0m \u001b[0minput\u001b[0m\u001b[1;33m(\u001b[0m\u001b[1;33m)\u001b[0m\u001b[1;33m\u001b[0m\u001b[1;33m\u001b[0m\u001b[0m\n\u001b[0m\u001b[0;32m      5\u001b[0m     \u001b[0mac\u001b[0m \u001b[1;33m=\u001b[0m \u001b[0mnp\u001b[0m\u001b[1;33m.\u001b[0m\u001b[0marray\u001b[0m\u001b[1;33m(\u001b[0m\u001b[1;33m[\u001b[0m\u001b[0mfloat\u001b[0m\u001b[1;33m(\u001b[0m\u001b[0ma\u001b[0m\u001b[1;33m)\u001b[0m \u001b[1;32mfor\u001b[0m \u001b[0ma\u001b[0m \u001b[1;32min\u001b[0m \u001b[0mac\u001b[0m\u001b[1;33m]\u001b[0m\u001b[1;33m)\u001b[0m\u001b[1;33m\u001b[0m\u001b[1;33m\u001b[0m\u001b[0m\n\u001b[0;32m      6\u001b[0m     \u001b[0mobs\u001b[0m\u001b[1;33m,\u001b[0m \u001b[0mreward\u001b[0m\u001b[1;33m,\u001b[0m \u001b[0mdone\u001b[0m \u001b[1;33m=\u001b[0m \u001b[0menv\u001b[0m\u001b[1;33m.\u001b[0m\u001b[0mstep\u001b[0m\u001b[1;33m(\u001b[0m\u001b[0mac\u001b[0m\u001b[1;33m)\u001b[0m\u001b[1;33m\u001b[0m\u001b[1;33m\u001b[0m\u001b[0m\n",
      "\u001b[1;32m~\\anaconda3\\lib\\site-packages\\ipykernel\\kernelbase.py\u001b[0m in \u001b[0;36mraw_input\u001b[1;34m(self, prompt)\u001b[0m\n\u001b[0;32m    858\u001b[0m                 \u001b[1;34m\"raw_input was called, but this frontend does not support input requests.\"\u001b[0m\u001b[1;33m\u001b[0m\u001b[1;33m\u001b[0m\u001b[0m\n\u001b[0;32m    859\u001b[0m             )\n\u001b[1;32m--> 860\u001b[1;33m         return self._input_request(str(prompt),\n\u001b[0m\u001b[0;32m    861\u001b[0m             \u001b[0mself\u001b[0m\u001b[1;33m.\u001b[0m\u001b[0m_parent_ident\u001b[0m\u001b[1;33m,\u001b[0m\u001b[1;33m\u001b[0m\u001b[1;33m\u001b[0m\u001b[0m\n\u001b[0;32m    862\u001b[0m             \u001b[0mself\u001b[0m\u001b[1;33m.\u001b[0m\u001b[0m_parent_header\u001b[0m\u001b[1;33m,\u001b[0m\u001b[1;33m\u001b[0m\u001b[1;33m\u001b[0m\u001b[0m\n",
      "\u001b[1;32m~\\anaconda3\\lib\\site-packages\\ipykernel\\kernelbase.py\u001b[0m in \u001b[0;36m_input_request\u001b[1;34m(self, prompt, ident, parent, password)\u001b[0m\n\u001b[0;32m    902\u001b[0m             \u001b[1;32mexcept\u001b[0m \u001b[0mKeyboardInterrupt\u001b[0m\u001b[1;33m:\u001b[0m\u001b[1;33m\u001b[0m\u001b[1;33m\u001b[0m\u001b[0m\n\u001b[0;32m    903\u001b[0m                 \u001b[1;31m# re-raise KeyboardInterrupt, to truncate traceback\u001b[0m\u001b[1;33m\u001b[0m\u001b[1;33m\u001b[0m\u001b[1;33m\u001b[0m\u001b[0m\n\u001b[1;32m--> 904\u001b[1;33m                 \u001b[1;32mraise\u001b[0m \u001b[0mKeyboardInterrupt\u001b[0m\u001b[1;33m(\u001b[0m\u001b[1;34m\"Interrupted by user\"\u001b[0m\u001b[1;33m)\u001b[0m \u001b[1;32mfrom\u001b[0m \u001b[1;32mNone\u001b[0m\u001b[1;33m\u001b[0m\u001b[1;33m\u001b[0m\u001b[0m\n\u001b[0m\u001b[0;32m    905\u001b[0m             \u001b[1;32mexcept\u001b[0m \u001b[0mException\u001b[0m \u001b[1;32mas\u001b[0m \u001b[0me\u001b[0m\u001b[1;33m:\u001b[0m\u001b[1;33m\u001b[0m\u001b[1;33m\u001b[0m\u001b[0m\n\u001b[0;32m    906\u001b[0m                 \u001b[0mself\u001b[0m\u001b[1;33m.\u001b[0m\u001b[0mlog\u001b[0m\u001b[1;33m.\u001b[0m\u001b[0mwarning\u001b[0m\u001b[1;33m(\u001b[0m\u001b[1;34m\"Invalid Message:\"\u001b[0m\u001b[1;33m,\u001b[0m \u001b[0mexc_info\u001b[0m\u001b[1;33m=\u001b[0m\u001b[1;32mTrue\u001b[0m\u001b[1;33m)\u001b[0m\u001b[1;33m\u001b[0m\u001b[1;33m\u001b[0m\u001b[0m\n",
      "\u001b[1;31mKeyboardInterrupt\u001b[0m: Interrupted by user"
     ]
    }
   ],
   "source": [
    "done = False\n",
    "obs = env.reset()\n",
    "while not done:\n",
    "    ac = input()\n",
    "    ac = np.array([float(a) for a in ac])\n",
    "    obs, reward, done = env.step(ac)"
   ]
  },
  {
   "cell_type": "code",
   "execution_count": 2,
   "id": "c57e1a17",
   "metadata": {},
   "outputs": [
    {
     "data": {
      "text/plain": [
       "array([1, 2])"
      ]
     },
     "execution_count": 2,
     "metadata": {},
     "output_type": "execute_result"
    }
   ],
   "source": []
  },
  {
   "cell_type": "code",
   "execution_count": 11,
   "id": "a1c40cf9",
   "metadata": {},
   "outputs": [
    {
     "data": {
      "text/plain": [
       "(4, 4, 2)"
      ]
     },
     "execution_count": 11,
     "metadata": {},
     "output_type": "execute_result"
    }
   ],
   "source": [
    "np.random.multivariate_normal(np.array([0, 0]), 0.5 * np.diag([1, 1]), size=(4,4)).shape"
   ]
  },
  {
   "cell_type": "code",
   "execution_count": 19,
   "id": "1ab6b978",
   "metadata": {},
   "outputs": [],
   "source": [
    "mat = np.random.multivariate_normal(np.array([0, 0]), 0.5 * np.diag([1, 1]), size=(4,4))"
   ]
  },
  {
   "cell_type": "code",
   "execution_count": 24,
   "id": "e80c5adb",
   "metadata": {},
   "outputs": [
    {
     "data": {
      "text/plain": [
       "(4, 4, 2)"
      ]
     },
     "execution_count": 24,
     "metadata": {},
     "output_type": "execute_result"
    }
   ],
   "source": [
    "mat.shape"
   ]
  },
  {
   "cell_type": "code",
   "execution_count": 60,
   "id": "0f8e48ac",
   "metadata": {},
   "outputs": [
    {
     "data": {
      "text/plain": [
       "array([[ 0.50993804, -0.14606585],\n",
       "       [ 1.00352978, -0.45010459],\n",
       "       [-1.48665428, -1.82695174],\n",
       "       [-0.46292909,  0.99639939]])"
      ]
     },
     "execution_count": 60,
     "metadata": {},
     "output_type": "execute_result"
    }
   ],
   "source": [
    "mat[0]"
   ]
  },
  {
   "cell_type": "code",
   "execution_count": 83,
   "id": "8eaee009",
   "metadata": {},
   "outputs": [],
   "source": [
    "cmat = np.matrix(mat[:,:, 0] + 1j*(mat[:, :, 1]))"
   ]
  },
  {
   "cell_type": "code",
   "execution_count": 98,
   "id": "d8957af3",
   "metadata": {},
   "outputs": [
    {
     "data": {
      "text/plain": [
       "8.246046860407883"
      ]
     },
     "execution_count": 98,
     "metadata": {},
     "output_type": "execute_result"
    }
   ],
   "source": [
    "np.sum(np.linalg.norm(cmat[0], axis=0)**2)"
   ]
  },
  {
   "cell_type": "code",
   "execution_count": 100,
   "id": "a6a1aaac",
   "metadata": {},
   "outputs": [
    {
     "data": {
      "text/plain": [
       "8.246046860407882"
      ]
     },
     "execution_count": 100,
     "metadata": {},
     "output_type": "execute_result"
    }
   ],
   "source": [
    "np.linalg.norm(cmat[0])**2"
   ]
  },
  {
   "cell_type": "code",
   "execution_count": 102,
   "id": "e54e1eed",
   "metadata": {},
   "outputs": [
    {
     "data": {
      "text/plain": [
       "matrix([[ 0.50993804-0.14606585j,  1.00352978-0.45010459j,\n",
       "         -1.48665428-1.82695174j, -0.46292909+0.99639939j]])"
      ]
     },
     "execution_count": 102,
     "metadata": {},
     "output_type": "execute_result"
    }
   ],
   "source": [
    "cmat[0]"
   ]
  },
  {
   "cell_type": "code",
   "execution_count": 133,
   "id": "30081f6d",
   "metadata": {},
   "outputs": [
    {
     "data": {
      "text/plain": [
       "array([8.24604686, 4.83584921, 6.88415179, 1.69167221])"
      ]
     },
     "execution_count": 133,
     "metadata": {},
     "output_type": "execute_result"
    }
   ],
   "source": [
    "np.linalg.norm(cmat.dot(cmat.getH()).diagonal(), axis=0)"
   ]
  },
  {
   "cell_type": "code",
   "execution_count": 137,
   "id": "d3cd2ed9",
   "metadata": {},
   "outputs": [
    {
     "data": {
      "text/plain": [
       "(-0.8445992564455569-4.650936968394163j)"
      ]
     },
     "execution_count": 137,
     "metadata": {},
     "output_type": "execute_result"
    }
   ],
   "source": [
    "cmat.dot(cmat.getH())[2,1]"
   ]
  },
  {
   "cell_type": "code",
   "execution_count": 120,
   "id": "66144419",
   "metadata": {},
   "outputs": [
    {
     "data": {
      "text/plain": [
       "1.0919039226692628"
      ]
     },
     "execution_count": 120,
     "metadata": {},
     "output_type": "execute_result"
    }
   ],
   "source": [
    "np.linalg.norm(cmat.dot(cmat.getH())[0,1])"
   ]
  },
  {
   "cell_type": "code",
   "execution_count": 114,
   "id": "df2896ef",
   "metadata": {},
   "outputs": [
    {
     "data": {
      "text/plain": [
       "matrix([[8.24604686+0.j]])"
      ]
     },
     "execution_count": 114,
     "metadata": {},
     "output_type": "execute_result"
    }
   ],
   "source": [
    "cmat[0].dot(cmat[0].getH())"
   ]
  },
  {
   "cell_type": "code",
   "execution_count": 78,
   "id": "0543c8eb",
   "metadata": {},
   "outputs": [
    {
     "data": {
      "text/plain": [
       "array([1.03732321+2.46068438j, 0.19722765+0.76798813j,\n",
       "       0.79767624+0.9779176j , 1.13916179+3.31079954j])"
      ]
     },
     "execution_count": 78,
     "metadata": {},
     "output_type": "execute_result"
    }
   ],
   "source": [
    "cmat[0].dot(cmat)"
   ]
  },
  {
   "cell_type": "code",
   "execution_count": 30,
   "id": "235b16de",
   "metadata": {},
   "outputs": [
    {
     "data": {
      "text/plain": [
       "1.4851618309773036"
      ]
     },
     "execution_count": 30,
     "metadata": {},
     "output_type": "execute_result"
    }
   ],
   "source": [
    "np.linalg.norm(np.matrix(mat[0]).getH().dot(mat[1]))"
   ]
  },
  {
   "cell_type": "code",
   "execution_count": 31,
   "id": "a00ced83",
   "metadata": {},
   "outputs": [
    {
     "data": {
      "text/plain": [
       "(4, 2)"
      ]
     },
     "execution_count": 31,
     "metadata": {},
     "output_type": "execute_result"
    }
   ],
   "source": [
    "np.matrix(mat[0]).shape"
   ]
  },
  {
   "cell_type": "code",
   "execution_count": 42,
   "id": "c56f555b",
   "metadata": {},
   "outputs": [
    {
     "data": {
      "text/plain": [
       "array([4.07622879, 4.87149774])"
      ]
     },
     "execution_count": 42,
     "metadata": {},
     "output_type": "execute_result"
    }
   ],
   "source": [
    "np.linalg.norm(np.matrix(mat[0]).getH().dot(np.matrix(mat[0])), axis=1)"
   ]
  },
  {
   "cell_type": "code",
   "execution_count": 53,
   "id": "16708933",
   "metadata": {},
   "outputs": [
    {
     "data": {
      "text/plain": [
       "array([8.24604686, 4.29300546, 5.21002229, 2.73788792])"
      ]
     },
     "execution_count": 53,
     "metadata": {},
     "output_type": "execute_result"
    }
   ],
   "source": [
    "np.linalg.norm(mat[0], axis=1).dot(np.linalg.norm(mat, axis=-1).T)"
   ]
  },
  {
   "cell_type": "code",
   "execution_count": 49,
   "id": "70ed616a",
   "metadata": {},
   "outputs": [
    {
     "data": {
      "text/plain": [
       "4.293005458210736"
      ]
     },
     "execution_count": 49,
     "metadata": {},
     "output_type": "execute_result"
    }
   ],
   "source": [
    "(np.linalg.norm(mat[0], axis=1)*normmat[1]).sum()"
   ]
  },
  {
   "cell_type": "code",
   "execution_count": 54,
   "id": "4c0a458e",
   "metadata": {},
   "outputs": [],
   "source": [
    "normmat = np.linalg.norm(mat, axis=-1)"
   ]
  },
  {
   "cell_type": "code",
   "execution_count": 58,
   "id": "0f806704",
   "metadata": {},
   "outputs": [
    {
     "data": {
      "text/plain": [
       "8.246046860407883"
      ]
     },
     "execution_count": 58,
     "metadata": {},
     "output_type": "execute_result"
    }
   ],
   "source": [
    "(np.linalg.norm(mat[0], axis=1)**2).sum()"
   ]
  },
  {
   "cell_type": "code",
   "execution_count": 59,
   "id": "c79e2f2a",
   "metadata": {},
   "outputs": [
    {
     "data": {
      "text/plain": [
       "array([[8.24604686, 4.29300546, 5.21002229, 2.73788792],\n",
       "       [4.29300546, 4.83584921, 5.65600271, 2.6822529 ],\n",
       "       [5.21002229, 5.65600271, 6.88415179, 3.1215787 ],\n",
       "       [2.73788792, 2.6822529 , 3.1215787 , 1.69167221]])"
      ]
     },
     "execution_count": 59,
     "metadata": {},
     "output_type": "execute_result"
    }
   ],
   "source": [
    "normmat.dot(normmat.T)"
   ]
  },
  {
   "cell_type": "code",
   "execution_count": 138,
   "id": "f4c43190",
   "metadata": {},
   "outputs": [
    {
     "data": {
      "text/plain": [
       "array([1, 2])"
      ]
     },
     "execution_count": 138,
     "metadata": {},
     "output_type": "execute_result"
    }
   ],
   "source": [
    "np.delete(np.array([1,2,3,4]), [2,3])"
   ]
  },
  {
   "cell_type": "code",
   "execution_count": null,
   "id": "f44eb05a",
   "metadata": {},
   "outputs": [],
   "source": []
  },
  {
   "cell_type": "code",
   "execution_count": null,
   "id": "407c06fe",
   "metadata": {},
   "outputs": [],
   "source": []
  },
  {
   "cell_type": "code",
   "execution_count": null,
   "id": "aaf68bee",
   "metadata": {},
   "outputs": [],
   "source": []
  }
 ],
 "metadata": {
  "kernelspec": {
   "display_name": "Python 3",
   "language": "python",
   "name": "python3"
  },
  "language_info": {
   "codemirror_mode": {
    "name": "ipython",
    "version": 3
   },
   "file_extension": ".py",
   "mimetype": "text/x-python",
   "name": "python",
   "nbconvert_exporter": "python",
   "pygments_lexer": "ipython3",
   "version": "3.8.12"
  }
 },
 "nbformat": 4,
 "nbformat_minor": 5
}
