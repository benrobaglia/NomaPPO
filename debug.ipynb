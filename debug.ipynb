{
 "cells": [
  {
   "cell_type": "code",
   "execution_count": 1,
   "id": "db099e73",
   "metadata": {},
   "outputs": [],
   "source": [
    "import numpy as np\n",
    "import pandas as pd\n",
    "import matplotlib.pyplot as plt\n",
    "import pickle\n",
    "import time\n",
    "from scipy.special import jv"
   ]
  },
  {
   "cell_type": "code",
   "execution_count": 2,
   "id": "e16cdc27",
   "metadata": {},
   "outputs": [],
   "source": [
    "from nomaenv import NomaEnv\n",
    "from algorithms.baselines import RandomScheduler, EarliestDeadlineFirstScheduler, SlottedAloha"
   ]
  },
  {
   "cell_type": "code",
   "execution_count": 3,
   "id": "2a304c59",
   "metadata": {},
   "outputs": [
    {
     "name": "stdout",
     "output_type": "stream",
     "text": [
      "Distances: [65. 65. 65. 65.]\n",
      "Gain UE: [-90.70970328 -90.70970328 -90.70970328 -90.70970328]\n",
      "n:1272.0, a:0.9999441788794395\n"
     ]
    }
   ],
   "source": [
    "k = 4\n",
    "deadlines = np.array([5 for _ in range(k)])\n",
    "offsets = np.zeros(k)\n",
    "arrival_probs = np.array([0.8 for _ in range(k)])\n",
    "period = 5\n",
    "\n",
    "env = NomaEnv(k,\n",
    "              deadlines,\n",
    "              lbda=1,\n",
    "              period=period,\n",
    "              arrival_probs=arrival_probs,\n",
    "              offsets=offsets,\n",
    "              episode_length=10,\n",
    "              max_simultaneous_devices=3,\n",
    "              traffic_model='aperiodic',\n",
    "              channel_model='interference',\n",
    "              distances=65,\n",
    "              path_loss=True,\n",
    "              shadowing=False,\n",
    "              fast_fading=True,\n",
    "              verbose=True\n",
    "             )"
   ]
  },
  {
   "cell_type": "code",
   "execution_count": 4,
   "id": "dca781bc",
   "metadata": {
    "scrolled": true
   },
   "outputs": [],
   "source": [
    "# done = False\n",
    "# obs = env.reset()\n",
    "# while not done:\n",
    "#     ac = input()\n",
    "#     ac = np.array([float(a) for a in ac])\n",
    "#     obs, reward, done = env.step(ac)"
   ]
  },
  {
   "cell_type": "code",
   "execution_count": 5,
   "id": "7313aa97",
   "metadata": {},
   "outputs": [],
   "source": [
    "obs = env.reset()"
   ]
  },
  {
   "cell_type": "code",
   "execution_count": 6,
   "id": "8f6787f9",
   "metadata": {},
   "outputs": [],
   "source": [
    "pg, h_coeffs = env.compute_channel_components()"
   ]
  },
  {
   "cell_type": "code",
   "execution_count": 7,
   "id": "f8d89584",
   "metadata": {},
   "outputs": [
    {
     "name": "stdout",
     "output_type": "stream",
     "text": [
      "attempts: [1 2 3], eta: [3.64429670e-06 2.68336215e-06 2.45468411e-06 4.90973028e-06], decoding order: [3 1 2]\n",
      "fast fading ||h||^2: [21.50720906 15.83615042 14.48658233 28.97530147]\n",
      "Device: 3, sinr 198.57428443327942, interference: [1 2]\n",
      "epsilon: 0.0, decoded: 1\n",
      "Device: 1, sinr 290.9828492859938, interference: [2]\n",
      "epsilon: 0.0, decoded: 1\n",
      "Device: 2, sinr 5109.604015368565, interference: []\n",
      "epsilon: 0.0, decoded: 1\n"
     ]
    },
    {
     "data": {
      "text/plain": [
       "(array([3, 1, 2]), [198.57428443327942, 290.9828492859938, 5109.604015368565])"
      ]
     },
     "execution_count": 7,
     "metadata": {},
     "output_type": "execute_result"
    }
   ],
   "source": [
    "env.decode_signal(np.array([0, 1, 1, 1]), pg, h_coeffs)"
   ]
  },
  {
   "cell_type": "markdown",
   "id": "2deaead1",
   "metadata": {},
   "source": [
    "### Test baselines"
   ]
  },
  {
   "cell_type": "code",
   "execution_count": 9,
   "id": "d4211de8",
   "metadata": {},
   "outputs": [],
   "source": [
    "k = 8\n",
    "deadlines = np.array([5 for _ in range(k)])\n",
    "offsets = np.zeros(k)\n",
    "arrival_probs = np.array([0.8 for _ in range(k)])\n",
    "period = 5\n",
    "\n",
    "env = NomaEnv(k,\n",
    "              deadlines,\n",
    "              lbda=1/9.3,\n",
    "              period=period,\n",
    "              arrival_probs=arrival_probs,\n",
    "              offsets=offsets,\n",
    "              episode_length=200,\n",
    "              max_simultaneous_devices=3,\n",
    "              traffic_model='aperiodic',\n",
    "              channel_model='collision',\n",
    "              distances=65,\n",
    "              path_loss=True,\n",
    "              shadowing=False,\n",
    "              fast_fading=True,\n",
    "              verbose=False\n",
    "             )"
   ]
  },
  {
   "cell_type": "code",
   "execution_count": 10,
   "id": "e01cf83c",
   "metadata": {},
   "outputs": [],
   "source": [
    "random_scheduler = RandomScheduler(env)"
   ]
  },
  {
   "cell_type": "code",
   "execution_count": 11,
   "id": "5c675fa4",
   "metadata": {},
   "outputs": [
    {
     "data": {
      "text/plain": [
       "0.8910196044859173"
      ]
     },
     "execution_count": 11,
     "metadata": {},
     "output_type": "execute_result"
    }
   ],
   "source": [
    "random_scheduler.run(500)"
   ]
  },
  {
   "cell_type": "code",
   "execution_count": 11,
   "id": "8dc31bac",
   "metadata": {},
   "outputs": [],
   "source": [
    "edf_scheduler = EarliestDeadlineFirstScheduler(env, True)"
   ]
  },
  {
   "cell_type": "code",
   "execution_count": 12,
   "id": "7978ab5d",
   "metadata": {},
   "outputs": [
    {
     "name": "stdout",
     "output_type": "stream",
     "text": [
      "Number of received packets: 40867.0\n"
     ]
    },
    {
     "data": {
      "text/plain": [
       "1.0"
      ]
     },
     "execution_count": 12,
     "metadata": {},
     "output_type": "execute_result"
    }
   ],
   "source": [
    "edf_scheduler.run(100)"
   ]
  },
  {
   "cell_type": "code",
   "execution_count": 4,
   "id": "199a456e",
   "metadata": {},
   "outputs": [],
   "source": [
    "aloha = SlottedAloha(env, 0.5)"
   ]
  },
  {
   "cell_type": "code",
   "execution_count": 5,
   "id": "33aa3991",
   "metadata": {},
   "outputs": [],
   "source": [
    "transmission_probs_list = [0.1, 0.2, 0.3, 0.4, 0.5, 0.6, 0.7, 0.8, 0.9, 1]\n",
    "cv = aloha.get_best_transmission_probs(50, transmission_probs_list)"
   ]
  },
  {
   "cell_type": "code",
   "execution_count": 6,
   "id": "84618152",
   "metadata": {},
   "outputs": [
    {
     "data": {
      "text/plain": [
       "[0.36314019784610885,\n",
       " 0.5743266363591925,\n",
       " 0.6615205923631612,\n",
       " 0.6845384087118611,\n",
       " 0.5797185832120331,\n",
       " 0.44992878542311276,\n",
       " 0.2828614152718152,\n",
       " 0.20614685245577624,\n",
       " 0.12081692913385822,\n",
       " 0.0827334630350195]"
      ]
     },
     "execution_count": 6,
     "metadata": {},
     "output_type": "execute_result"
    }
   ],
   "source": [
    "cv"
   ]
  },
  {
   "cell_type": "code",
   "execution_count": 8,
   "id": "84618152",
   "metadata": {},
   "outputs": [],
   "source": [
    "aloha.transmission_prob = transmission_probs_list[np.argmax(cv)]"
   ]
  },
  {
   "cell_type": "code",
   "execution_count": 12,
   "id": "247c7aa6",
   "metadata": {},
   "outputs": [
    {
     "data": {
      "text/plain": [
       "0.6706715686274509"
      ]
     },
     "execution_count": 12,
     "metadata": {},
     "output_type": "execute_result"
    }
   ],
   "source": [
    "aloha.run(500)"
   ]
  },
  {
   "cell_type": "code",
   "execution_count": null,
   "id": "01bd59db",
   "metadata": {},
   "outputs": [],
   "source": []
  }
 ],
 "metadata": {
  "kernelspec": {
   "display_name": "Python 3.9.13 ('base')",
   "language": "python",
   "name": "python3"
  },
  "language_info": {
   "codemirror_mode": {
    "name": "ipython",
    "version": 3
   },
   "file_extension": ".py",
   "mimetype": "text/x-python",
   "name": "python",
   "nbconvert_exporter": "python",
   "pygments_lexer": "ipython3",
   "version": "3.9.13"
  },
  "vscode": {
   "interpreter": {
    "hash": "dd7be2c38d749a3585debe17cd466a95d71967d5b2cd65287b0ab9f7da5c6da1"
   }
  }
 },
 "nbformat": 4,
 "nbformat_minor": 5
}
